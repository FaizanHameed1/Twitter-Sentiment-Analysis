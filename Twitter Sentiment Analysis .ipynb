{
  "nbformat": 4,
  "nbformat_minor": 0,
  "metadata": {
    "colab": {
      "name": "Copy of Untitled0.ipynb",
      "provenance": [],
      "collapsed_sections": []
    },
    "kernelspec": {
      "display_name": "Python 3",
      "name": "python3"
    }
  },
  "cells": [
    {
      "cell_type": "markdown",
      "metadata": {
        "id": "BX_PRUPxlibf"
      },
      "source": [
        "# Twitter Sentiment Analysis"
      ]
    },
    {
      "cell_type": "markdown",
      "metadata": {
        "id": "GMc_VjNRlmcT"
      },
      "source": [
        "## Faizan Hameed"
      ]
    },
    {
      "cell_type": "markdown",
      "metadata": {
        "id": "xhTtT1Xily7B"
      },
      "source": [
        "### 1-Importing the required modules"
      ]
    },
    {
      "cell_type": "code",
      "metadata": {
        "id": "pFDgSHf16qoU"
      },
      "source": [
        "import numpy as np\r\n",
        "import pandas as pd\r\n",
        "import matplotlib.pyplot as plt\r\n",
        "%matplotlib inline"
      ],
      "execution_count": null,
      "outputs": []
    },
    {
      "cell_type": "code",
      "metadata": {
        "id": "CNQd-SMF5cnw"
      },
      "source": [
        "import tensorflow as tf\r\n",
        "import re\r\n",
        "from wordcloud import WordCloud\r\n",
        "from keras.models import model_from_json\r\n",
        "import string"
      ],
      "execution_count": null,
      "outputs": []
    },
    {
      "cell_type": "code",
      "metadata": {
        "id": "utNKZX06HRf1"
      },
      "source": [
        "from keras.utils.np_utils import to_categorical\r\n",
        "from keras.preprocessing.sequence import pad_sequences\r\n",
        "from keras.models import Sequential\r\n",
        "from sklearn.feature_extraction.text import CountVectorizer\r\n",
        "from keras.layers import Dense, Embedding, LSTM, SpatialDropout1D\r\n",
        "from keras.preprocessing.text import Tokenizer\r\n",
        "from sklearn.model_selection import train_test_split\r\n",
        "from sklearn.preprocessing import LabelEncoder"
      ],
      "execution_count": null,
      "outputs": []
    },
    {
      "cell_type": "markdown",
      "metadata": {
        "id": "cLeyBpozmF7a"
      },
      "source": [
        "### 2-Loading Data"
      ]
    },
    {
      "cell_type": "code",
      "metadata": {
        "colab": {
          "base_uri": "https://localhost:8080/"
        },
        "id": "ktfOjHujkqyZ",
        "outputId": "fcdd8d18-fe68-40fa-880e-16694dfb7ee4"
      },
      "source": [
        "# Make data directory if it doesn't exist\r\n",
        "!mkdir -p data\r\n",
        "!wget -nc https://nyc3.digitaloceanspaces.com/ml-files-distro/v1/investigating-sentiment-analysis/data/training.1600000.processed.noemoticon.csv.zip -P data\r\n",
        "!unzip -n -d data data/training.1600000.processed.noemoticon.csv.zip"
      ],
      "execution_count": null,
      "outputs": [
        {
          "output_type": "stream",
          "text": [
            "File ‘data/training.1600000.processed.noemoticon.csv.zip’ already there; not retrieving.\n",
            "\n",
            "Archive:  data/training.1600000.processed.noemoticon.csv.zip\n"
          ],
          "name": "stdout"
        }
      ]
    },
    {
      "cell_type": "markdown",
      "metadata": {
        "id": "Dp7dGNhostbs"
      },
      "source": [
        "First we import our data and rename our columns"
      ]
    },
    {
      "cell_type": "code",
      "metadata": {
        "id": "_CIFggmx5snw"
      },
      "source": [
        "#importing the data and renaming the columns\r\n",
        "\r\n",
        "df = pd.read_csv(\"data/training.1600000.processed.noemoticon.csv\",\r\n",
        "                   encoding='latin-1')#Here latin-1 encoding is used to read the file"
      ],
      "execution_count": null,
      "outputs": []
    },
    {
      "cell_type": "markdown",
      "metadata": {
        "id": "xpnzQgdnmVMi"
      },
      "source": [
        "### 3-Preprocessing the Data"
      ]
    },
    {
      "cell_type": "markdown",
      "metadata": {
        "id": "-Kl2D9Xdr8Z5"
      },
      "source": [
        "Visualizing the data"
      ]
    },
    {
      "cell_type": "code",
      "metadata": {
        "colab": {
          "base_uri": "https://localhost:8080/",
          "height": 302
        },
        "id": "W9hnCnV_rzbe",
        "outputId": "9f055083-5520-4ae2-db0c-634001882a51"
      },
      "source": [
        "df.head()"
      ],
      "execution_count": null,
      "outputs": [
        {
          "output_type": "execute_result",
          "data": {
            "text/html": [
              "<div>\n",
              "<style scoped>\n",
              "    .dataframe tbody tr th:only-of-type {\n",
              "        vertical-align: middle;\n",
              "    }\n",
              "\n",
              "    .dataframe tbody tr th {\n",
              "        vertical-align: top;\n",
              "    }\n",
              "\n",
              "    .dataframe thead th {\n",
              "        text-align: right;\n",
              "    }\n",
              "</style>\n",
              "<table border=\"1\" class=\"dataframe\">\n",
              "  <thead>\n",
              "    <tr style=\"text-align: right;\">\n",
              "      <th></th>\n",
              "      <th>0</th>\n",
              "      <th>1467810369</th>\n",
              "      <th>Mon Apr 06 22:19:45 PDT 2009</th>\n",
              "      <th>NO_QUERY</th>\n",
              "      <th>_TheSpecialOne_</th>\n",
              "      <th>@switchfoot http://twitpic.com/2y1zl - Awww, that's a bummer.  You shoulda got David Carr of Third Day to do it. ;D</th>\n",
              "    </tr>\n",
              "  </thead>\n",
              "  <tbody>\n",
              "    <tr>\n",
              "      <th>0</th>\n",
              "      <td>0</td>\n",
              "      <td>1467810672</td>\n",
              "      <td>Mon Apr 06 22:19:49 PDT 2009</td>\n",
              "      <td>NO_QUERY</td>\n",
              "      <td>scotthamilton</td>\n",
              "      <td>is upset that he can't update his Facebook by ...</td>\n",
              "    </tr>\n",
              "    <tr>\n",
              "      <th>1</th>\n",
              "      <td>0</td>\n",
              "      <td>1467810917</td>\n",
              "      <td>Mon Apr 06 22:19:53 PDT 2009</td>\n",
              "      <td>NO_QUERY</td>\n",
              "      <td>mattycus</td>\n",
              "      <td>@Kenichan I dived many times for the ball. Man...</td>\n",
              "    </tr>\n",
              "    <tr>\n",
              "      <th>2</th>\n",
              "      <td>0</td>\n",
              "      <td>1467811184</td>\n",
              "      <td>Mon Apr 06 22:19:57 PDT 2009</td>\n",
              "      <td>NO_QUERY</td>\n",
              "      <td>ElleCTF</td>\n",
              "      <td>my whole body feels itchy and like its on fire</td>\n",
              "    </tr>\n",
              "    <tr>\n",
              "      <th>3</th>\n",
              "      <td>0</td>\n",
              "      <td>1467811193</td>\n",
              "      <td>Mon Apr 06 22:19:57 PDT 2009</td>\n",
              "      <td>NO_QUERY</td>\n",
              "      <td>Karoli</td>\n",
              "      <td>@nationwideclass no, it's not behaving at all....</td>\n",
              "    </tr>\n",
              "    <tr>\n",
              "      <th>4</th>\n",
              "      <td>0</td>\n",
              "      <td>1467811372</td>\n",
              "      <td>Mon Apr 06 22:20:00 PDT 2009</td>\n",
              "      <td>NO_QUERY</td>\n",
              "      <td>joy_wolf</td>\n",
              "      <td>@Kwesidei not the whole crew</td>\n",
              "    </tr>\n",
              "  </tbody>\n",
              "</table>\n",
              "</div>"
            ],
            "text/plain": [
              "   0  ...  @switchfoot http://twitpic.com/2y1zl - Awww, that's a bummer.  You shoulda got David Carr of Third Day to do it. ;D\n",
              "0  0  ...  is upset that he can't update his Facebook by ...                                                                  \n",
              "1  0  ...  @Kenichan I dived many times for the ball. Man...                                                                  \n",
              "2  0  ...    my whole body feels itchy and like its on fire                                                                   \n",
              "3  0  ...  @nationwideclass no, it's not behaving at all....                                                                  \n",
              "4  0  ...                      @Kwesidei not the whole crew                                                                   \n",
              "\n",
              "[5 rows x 6 columns]"
            ]
          },
          "metadata": {
            "tags": []
          },
          "execution_count": 35
        }
      ]
    },
    {
      "cell_type": "markdown",
      "metadata": {
        "id": "nyk4EOUzvdcp"
      },
      "source": [
        "Renaming columns to make them easy to understand."
      ]
    },
    {
      "cell_type": "code",
      "metadata": {
        "colab": {
          "base_uri": "https://localhost:8080/",
          "height": 198
        },
        "id": "Cny-41Gbvbw2",
        "outputId": "ca879011-9841-4e78-b2a2-ffaca06520d7"
      },
      "source": [
        "df.columns=['target','id','date','query','user','text']\r\n",
        "df.head()"
      ],
      "execution_count": null,
      "outputs": [
        {
          "output_type": "execute_result",
          "data": {
            "text/html": [
              "<div>\n",
              "<style scoped>\n",
              "    .dataframe tbody tr th:only-of-type {\n",
              "        vertical-align: middle;\n",
              "    }\n",
              "\n",
              "    .dataframe tbody tr th {\n",
              "        vertical-align: top;\n",
              "    }\n",
              "\n",
              "    .dataframe thead th {\n",
              "        text-align: right;\n",
              "    }\n",
              "</style>\n",
              "<table border=\"1\" class=\"dataframe\">\n",
              "  <thead>\n",
              "    <tr style=\"text-align: right;\">\n",
              "      <th></th>\n",
              "      <th>target</th>\n",
              "      <th>id</th>\n",
              "      <th>date</th>\n",
              "      <th>query</th>\n",
              "      <th>user</th>\n",
              "      <th>text</th>\n",
              "    </tr>\n",
              "  </thead>\n",
              "  <tbody>\n",
              "    <tr>\n",
              "      <th>0</th>\n",
              "      <td>0</td>\n",
              "      <td>1467810672</td>\n",
              "      <td>Mon Apr 06 22:19:49 PDT 2009</td>\n",
              "      <td>NO_QUERY</td>\n",
              "      <td>scotthamilton</td>\n",
              "      <td>is upset that he can't update his Facebook by ...</td>\n",
              "    </tr>\n",
              "    <tr>\n",
              "      <th>1</th>\n",
              "      <td>0</td>\n",
              "      <td>1467810917</td>\n",
              "      <td>Mon Apr 06 22:19:53 PDT 2009</td>\n",
              "      <td>NO_QUERY</td>\n",
              "      <td>mattycus</td>\n",
              "      <td>@Kenichan I dived many times for the ball. Man...</td>\n",
              "    </tr>\n",
              "    <tr>\n",
              "      <th>2</th>\n",
              "      <td>0</td>\n",
              "      <td>1467811184</td>\n",
              "      <td>Mon Apr 06 22:19:57 PDT 2009</td>\n",
              "      <td>NO_QUERY</td>\n",
              "      <td>ElleCTF</td>\n",
              "      <td>my whole body feels itchy and like its on fire</td>\n",
              "    </tr>\n",
              "    <tr>\n",
              "      <th>3</th>\n",
              "      <td>0</td>\n",
              "      <td>1467811193</td>\n",
              "      <td>Mon Apr 06 22:19:57 PDT 2009</td>\n",
              "      <td>NO_QUERY</td>\n",
              "      <td>Karoli</td>\n",
              "      <td>@nationwideclass no, it's not behaving at all....</td>\n",
              "    </tr>\n",
              "    <tr>\n",
              "      <th>4</th>\n",
              "      <td>0</td>\n",
              "      <td>1467811372</td>\n",
              "      <td>Mon Apr 06 22:20:00 PDT 2009</td>\n",
              "      <td>NO_QUERY</td>\n",
              "      <td>joy_wolf</td>\n",
              "      <td>@Kwesidei not the whole crew</td>\n",
              "    </tr>\n",
              "  </tbody>\n",
              "</table>\n",
              "</div>"
            ],
            "text/plain": [
              "   target  ...                                               text\n",
              "0       0  ...  is upset that he can't update his Facebook by ...\n",
              "1       0  ...  @Kenichan I dived many times for the ball. Man...\n",
              "2       0  ...    my whole body feels itchy and like its on fire \n",
              "3       0  ...  @nationwideclass no, it's not behaving at all....\n",
              "4       0  ...                      @Kwesidei not the whole crew \n",
              "\n",
              "[5 rows x 6 columns]"
            ]
          },
          "metadata": {
            "tags": []
          },
          "execution_count": 36
        }
      ]
    },
    {
      "cell_type": "markdown",
      "metadata": {
        "id": "JhTmWEIDocel"
      },
      "source": [
        "Removing Unwanted Columns\r\n",
        "\r\n",
        "\r\n",
        "\r\n"
      ]
    },
    {
      "cell_type": "code",
      "metadata": {
        "colab": {
          "base_uri": "https://localhost:8080/",
          "height": 198
        },
        "id": "fQ2UwgM0ko9J",
        "outputId": "33c8c736-d33c-464e-abe2-60d8ef4a03e2"
      },
      "source": [
        "df = df.drop(columns=['id', 'date', 'query', 'user']) # These columns will not effect our data so we are going to remove them\r\n",
        "df.head()"
      ],
      "execution_count": null,
      "outputs": [
        {
          "output_type": "execute_result",
          "data": {
            "text/html": [
              "<div>\n",
              "<style scoped>\n",
              "    .dataframe tbody tr th:only-of-type {\n",
              "        vertical-align: middle;\n",
              "    }\n",
              "\n",
              "    .dataframe tbody tr th {\n",
              "        vertical-align: top;\n",
              "    }\n",
              "\n",
              "    .dataframe thead th {\n",
              "        text-align: right;\n",
              "    }\n",
              "</style>\n",
              "<table border=\"1\" class=\"dataframe\">\n",
              "  <thead>\n",
              "    <tr style=\"text-align: right;\">\n",
              "      <th></th>\n",
              "      <th>target</th>\n",
              "      <th>text</th>\n",
              "    </tr>\n",
              "  </thead>\n",
              "  <tbody>\n",
              "    <tr>\n",
              "      <th>0</th>\n",
              "      <td>0</td>\n",
              "      <td>is upset that he can't update his Facebook by ...</td>\n",
              "    </tr>\n",
              "    <tr>\n",
              "      <th>1</th>\n",
              "      <td>0</td>\n",
              "      <td>@Kenichan I dived many times for the ball. Man...</td>\n",
              "    </tr>\n",
              "    <tr>\n",
              "      <th>2</th>\n",
              "      <td>0</td>\n",
              "      <td>my whole body feels itchy and like its on fire</td>\n",
              "    </tr>\n",
              "    <tr>\n",
              "      <th>3</th>\n",
              "      <td>0</td>\n",
              "      <td>@nationwideclass no, it's not behaving at all....</td>\n",
              "    </tr>\n",
              "    <tr>\n",
              "      <th>4</th>\n",
              "      <td>0</td>\n",
              "      <td>@Kwesidei not the whole crew</td>\n",
              "    </tr>\n",
              "  </tbody>\n",
              "</table>\n",
              "</div>"
            ],
            "text/plain": [
              "   target                                               text\n",
              "0       0  is upset that he can't update his Facebook by ...\n",
              "1       0  @Kenichan I dived many times for the ball. Man...\n",
              "2       0    my whole body feels itchy and like its on fire \n",
              "3       0  @nationwideclass no, it's not behaving at all....\n",
              "4       0                      @Kwesidei not the whole crew "
            ]
          },
          "metadata": {
            "tags": []
          },
          "execution_count": 37
        }
      ]
    },
    {
      "cell_type": "markdown",
      "metadata": {
        "id": "uaZDWuUK0GTg"
      },
      "source": [
        "Now we want to check the classis"
      ]
    },
    {
      "cell_type": "code",
      "metadata": {
        "colab": {
          "base_uri": "https://localhost:8080/"
        },
        "id": "9-y3y9LlkQCM",
        "outputId": "9db3d389-b06b-4cb8-a2a8-deb07063e691"
      },
      "source": [
        "df.target.value_counts() #different classis in column target"
      ],
      "execution_count": null,
      "outputs": [
        {
          "output_type": "execute_result",
          "data": {
            "text/plain": [
              "4    800000\n",
              "0    799999\n",
              "Name: target, dtype: int64"
            ]
          },
          "metadata": {
            "tags": []
          },
          "execution_count": 38
        }
      ]
    },
    {
      "cell_type": "markdown",
      "metadata": {
        "id": "C52nQSsl015w"
      },
      "source": [
        "In the upper code 0 is for negitive and 4 is for positive. For better representation change 4 with 1 so that 1 for positive and 0 for negitive representaton."
      ]
    },
    {
      "cell_type": "code",
      "metadata": {
        "colab": {
          "base_uri": "https://localhost:8080/"
        },
        "id": "daoWW6JT2CjC",
        "outputId": "b7f48eb2-8169-4032-fe13-09d17eb98e75"
      },
      "source": [
        "df.target=df.target.replace({0:0,4:1})\r\n",
        "df.target.value_counts()"
      ],
      "execution_count": null,
      "outputs": [
        {
          "output_type": "execute_result",
          "data": {
            "text/plain": [
              "1    800000\n",
              "0    799999\n",
              "Name: target, dtype: int64"
            ]
          },
          "metadata": {
            "tags": []
          },
          "execution_count": 39
        }
      ]
    },
    {
      "cell_type": "markdown",
      "metadata": {
        "id": "ajFLs9QYmrZ8"
      },
      "source": [
        "Cleaning the data "
      ]
    },
    {
      "cell_type": "code",
      "metadata": {
        "id": "ZhshvcWA41dq"
      },
      "source": [
        "#first we will clean unwanted text from tweets using regular expressions\r\n",
        "def cleaning_tweets(tweet):\r\n",
        "  tweet=tweet.lower()# converting into lower case\r\n",
        "  tweet=re.sub(r'http\\S+|https\\S+|www\\S+','',tweet,flags=re.MULTILINE) #removing urls\r\n",
        "  tweet= tweet.translate(str.maketrans('','',string.punctuation)) #translate method is used to remove punctuations and replace with space\r\n",
        "  tweet=re.sub(r'\\@\\w+|\\#',\"\",tweet)#removing # and @ references from tweets\r\n",
        "  tweet=re.sub(r'@[A-Za-z0-9]+','',tweet)\r\n",
        "  tweet=re.sub(r'@[A-Za-zA-Z0-9]+','',tweet)\r\n",
        "  tweet=re.sub(r'@[A-Za-z]+','',tweet)\r\n",
        "  tweet=re.sub(r'@[-)]+','',tweet)\r\n",
        "  return tweet\r\n"
      ],
      "execution_count": null,
      "outputs": []
    },
    {
      "cell_type": "code",
      "metadata": {
        "colab": {
          "base_uri": "https://localhost:8080/"
        },
        "id": "FktrdIA5jck6",
        "outputId": "f3eb5a97-172a-4032-c293-e089a168f570"
      },
      "source": [
        "df.text=df.text.apply(cleaning_tweets)\r\n",
        "df.text.head()"
      ],
      "execution_count": null,
      "outputs": [
        {
          "output_type": "execute_result",
          "data": {
            "text/plain": [
              "0    is upset that he cant update his facebook by t...\n",
              "1    kenichan i dived many times for the ball manag...\n",
              "2      my whole body feels itchy and like its on fire \n",
              "3    nationwideclass no its not behaving at all im ...\n",
              "4                         kwesidei not the whole crew \n",
              "Name: text, dtype: object"
            ]
          },
          "metadata": {
            "tags": []
          },
          "execution_count": 41
        }
      ]
    },
    {
      "cell_type": "code",
      "metadata": {
        "colab": {
          "base_uri": "https://localhost:8080/"
        },
        "id": "KxYjU4Y9lfPV",
        "outputId": "6a3f62be-61e6-4e2a-c5c5-9855732c6464"
      },
      "source": [
        "df['text'].values"
      ],
      "execution_count": null,
      "outputs": [
        {
          "output_type": "execute_result",
          "data": {
            "text/plain": [
              "array(['is upset that he cant update his facebook by texting it and might cry as a result  school today also blah',\n",
              "       'kenichan i dived many times for the ball managed to save 50  the rest go out of bounds',\n",
              "       'my whole body feels itchy and like its on fire ', ...,\n",
              "       'are you ready for your mojo makeover ask me for details ',\n",
              "       'happy 38th birthday to my boo of alll time tupac amaru shakur ',\n",
              "       'happy charitytuesday thenspcc sparkscharity speakinguph4h '],\n",
              "      dtype=object)"
            ]
          },
          "metadata": {
            "tags": []
          },
          "execution_count": 42
        }
      ]
    },
    {
      "cell_type": "markdown",
      "metadata": {
        "id": "zQ730BJDEcZV"
      },
      "source": [
        "#### Tokenization"
      ]
    },
    {
      "cell_type": "markdown",
      "metadata": {
        "id": "UbehcEyrDxR2"
      },
      "source": [
        "We are tokenizing text to convert them into vectors"
      ]
    },
    {
      "cell_type": "code",
      "metadata": {
        "id": "iB0Hx26XGyzQ"
      },
      "source": [
        "tokenize = Tokenizer(num_words=1500, split=' ')#Vocabulary size is 1500\r\n",
        "tokenize.fit_on_texts(df['text'].values)\r\n",
        "word_index = tokenize.word_index\r\n"
      ],
      "execution_count": null,
      "outputs": []
    },
    {
      "cell_type": "markdown",
      "metadata": {
        "id": "AFXMmWDGOcD6"
      },
      "source": [
        "Word Embedding is technique to represent words into numbers"
      ]
    },
    {
      "cell_type": "code",
      "metadata": {
        "id": "ijvBz9o7IgFp"
      },
      "source": [
        "emb = tokenize.texts_to_sequences(df['text'])\r\n",
        "x = pad_sequences(emb)# after padding we assign it an \"x\" variable"
      ],
      "execution_count": null,
      "outputs": []
    },
    {
      "cell_type": "code",
      "metadata": {
        "colab": {
          "base_uri": "https://localhost:8080/"
        },
        "id": "hkm_l4PbhIs-",
        "outputId": "b5566c1c-0e68-4bc7-aef9-d50fce8e13db"
      },
      "source": [
        "print(x)"
      ],
      "execution_count": null,
      "outputs": [
        {
          "output_type": "stream",
          "text": [
            "[[   0    0    0 ...   42  261 1197]\n",
            " [   0    0    0 ...   38   34   12]\n",
            " [   0    0    0 ...   24   14 1172]\n",
            " ...\n",
            " [   0    0    0 ...  612   15   10]\n",
            " [   0    0    0 ...  500   12   49]\n",
            " [   0    0    0 ...    0    0  118]]\n"
          ],
          "name": "stdout"
        }
      ]
    },
    {
      "cell_type": "markdown",
      "metadata": {
        "id": "KB382WoQ1Qfr"
      },
      "source": [
        "### 4-Building a Model"
      ]
    },
    {
      "cell_type": "code",
      "metadata": {
        "colab": {
          "base_uri": "https://localhost:8080/"
        },
        "id": "BJ6GOkzqh5sP",
        "outputId": "10a5eec3-1eb4-4291-9934-5da6f5518fdd"
      },
      "source": [
        "model = Sequential()\r\n",
        "embed_dim = 128\r\n",
        "lstm_out = 196\r\n",
        "vocabSize=1500\r\n",
        "model.add(Embedding(vocabSize, embed_dim,input_length = x.shape[1]))\r\n",
        "model.add(LSTM(lstm_out, dropout=0.2, recurrent_dropout=0.2))\r\n",
        "model.add(tf.keras.layers.Dense(6, activation='relu'))# can remove this layer depending on our results\r\n",
        "model.add(tf.keras.layers.Dense(1, activation='sigmoid'))\r\n",
        "print(model.summary())"
      ],
      "execution_count": null,
      "outputs": [
        {
          "output_type": "stream",
          "text": [
            "WARNING:tensorflow:Layer lstm_2 will not use cuDNN kernel since it doesn't meet the cuDNN kernel criteria. It will use generic GPU kernel as fallback when running on GPU\n",
            "Model: \"sequential_4\"\n",
            "_________________________________________________________________\n",
            "Layer (type)                 Output Shape              Param #   \n",
            "=================================================================\n",
            "embedding_4 (Embedding)      (None, 40, 128)           192000    \n",
            "_________________________________________________________________\n",
            "lstm_2 (LSTM)                (None, 196)               254800    \n",
            "_________________________________________________________________\n",
            "dense_4 (Dense)              (None, 6)                 1182      \n",
            "_________________________________________________________________\n",
            "dense_5 (Dense)              (None, 1)                 7         \n",
            "=================================================================\n",
            "Total params: 447,989\n",
            "Trainable params: 447,989\n",
            "Non-trainable params: 0\n",
            "_________________________________________________________________\n",
            "None\n"
          ],
          "name": "stdout"
        }
      ]
    },
    {
      "cell_type": "markdown",
      "metadata": {
        "id": "DmowsqBD2GhT"
      },
      "source": [
        "### Compiling the Model"
      ]
    },
    {
      "cell_type": "code",
      "metadata": {
        "id": "iB3TcwyWlQoZ"
      },
      "source": [
        "model.compile(loss = 'binary_crossentropy', optimizer='adam',metrics = ['accuracy'])#we want to track our accuracy metric"
      ],
      "execution_count": null,
      "outputs": []
    },
    {
      "cell_type": "markdown",
      "metadata": {
        "id": "Ga8eDfc54Vo7"
      },
      "source": [
        "\r\n",
        "Label encoder is used here to encode the sentiments.Input x are the tweets while corresponding output(label) y is sentiment.We stored them x wwith its correspondind sentiment y\r\n"
      ]
    },
    {
      "cell_type": "code",
      "metadata": {
        "id": "JQhKcHFx2yx6"
      },
      "source": [
        "leben = LabelEncoder()\r\n",
        "y = leben.fit_transform(df['target'])\r\n"
      ],
      "execution_count": null,
      "outputs": []
    },
    {
      "cell_type": "markdown",
      "metadata": {
        "id": "na7ofzAWDAHm"
      },
      "source": [
        "### Splitting the Training and Test Set"
      ]
    },
    {
      "cell_type": "code",
      "metadata": {
        "id": "n3nrQfCz7WdQ"
      },
      "source": [
        "x_train, x_test, y_train, y_test = train_test_split(x,y, test_size = 0.2, random_state = 42)"
      ],
      "execution_count": null,
      "outputs": []
    },
    {
      "cell_type": "markdown",
      "metadata": {
        "id": "zy6Eb4BwJ6f9"
      },
      "source": [
        "### 5-Training our Model"
      ]
    },
    {
      "cell_type": "code",
      "metadata": {
        "colab": {
          "base_uri": "https://localhost:8080/"
        },
        "id": "W8f-tPQyKZ9t",
        "outputId": "d9c2f4cc-1085-45a0-b128-e8ad41a50c0e"
      },
      "source": [
        "epochs = 10\r\n",
        "batch_size=32\r\n",
        "model.fit(x_train, y_train,validation_data = (x_test,y_test),epochs=epochs, batch_size=batch_size)"
      ],
      "execution_count": null,
      "outputs": [
        {
          "output_type": "stream",
          "text": [
            "Epoch 1/10\n",
            "14198/40000 [=========>....................] - ETA: 1:01:49 - loss: 0.4894 - accuracy: 0.7607"
          ],
          "name": "stdout"
        }
      ]
    },
    {
      "cell_type": "markdown",
      "metadata": {
        "id": "LXMgmOf1MR-V"
      },
      "source": [
        "#### Saving the model"
      ]
    },
    {
      "cell_type": "code",
      "metadata": {
        "id": "fIpB7t0kMW0b"
      },
      "source": [
        "model_json = model.to_json()\r\n",
        "with open(\"model_final.json\", \"w\") as json_file:\r\n",
        "    json_file.write(model_json)\r\n",
        "model.save_weights(\"final_model.h5\")"
      ],
      "execution_count": null,
      "outputs": []
    },
    {
      "cell_type": "markdown",
      "metadata": {
        "id": "FNyTnK9OMCe-"
      },
      "source": [
        "####Model Evaluation"
      ]
    },
    {
      "cell_type": "code",
      "metadata": {
        "id": "aCJXTP2LDuVl"
      },
      "source": [
        "model.evaluate(x_test,y_test)# checking the performance of our model"
      ],
      "execution_count": null,
      "outputs": []
    },
    {
      "cell_type": "markdown",
      "metadata": {
        "id": "e2TIYkFx54CB"
      },
      "source": [
        "#### Make Predictions"
      ]
    },
    {
      "cell_type": "code",
      "metadata": {
        "id": "JwQUHjwJ4IMj"
      },
      "source": [
        "print(\"Prediction: \",model.predict_classes(x_test[15:30]))# Making prediction of 15 rows\r\n",
        "\r\n",
        "print(\"Labels: \\n\",y_test[15:30])# checking the labels of the same rows that are predicted"
      ],
      "execution_count": null,
      "outputs": []
    }
  ]
}